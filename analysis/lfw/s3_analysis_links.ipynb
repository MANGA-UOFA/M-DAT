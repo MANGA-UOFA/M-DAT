{
 "metadata": {
  "language_info": {
   "codemirror_mode": {
    "name": "ipython",
    "version": 3
   },
   "file_extension": ".py",
   "mimetype": "text/x-python",
   "name": "python",
   "nbconvert_exporter": "python",
   "pygments_lexer": "ipython3",
   "version": "3.7.3-final"
  },
  "orig_nbformat": 2,
  "kernelspec": {
   "name": "Python 3.7.3 64-bit",
   "display_name": "Python 3.7.3 64-bit",
   "metadata": {
    "interpreter": {
     "hash": "31f2aee4e71d21fbe5cf8b01ff0e069b9275f58929596ceb00d14d90e3e16cd6"
    }
   }
  }
 },
 "nbformat": 4,
 "nbformat_minor": 2,
 "cells": [
  {
   "cell_type": "code",
   "execution_count": 1,
   "metadata": {},
   "outputs": [],
   "source": [
    "import pickle\n",
    "from collections import OrderedDict\n",
    "\n"
   ]
  },
  {
   "cell_type": "code",
   "execution_count": 2,
   "metadata": {},
   "outputs": [],
   "source": [
    "def get_linked_count(data_path, skipped=20):\n",
    "    up_factor = 100000\n",
    "    dict_file = data_path + 'en_de_hyp.pkl'\n",
    "    src_dict, trg_dict = pickle.load(open(dict_file, 'br'))\n",
    "    freq_file_path = data_path + 'en_de_hyp_forward.align'\n",
    "    text_file_path = data_path + 'cat_en_de_hyp.txt.1'\n",
    "\n",
    "    freq_lines = open(freq_file_path).readlines()\n",
    "    text_lines = open(text_file_path).readlines()\n",
    "\n",
    "    # src_dict_sorted = dict(sorted(src_dict.items(), key=lambda item: item[1], reverse=True))\n",
    "    src_token_count = sum([item[1] for item in src_dict.items()])\n",
    "    for key in src_dict:\n",
    "        src_dict[key] = src_dict[key] / src_token_count \n",
    "\n",
    "    test_lines_test = text_lines[-(3003-skipped):]\n",
    "    freq_lines_test = freq_lines[-(3003-skipped):]\n",
    "    \n",
    "    \n",
    "    threshold = 0.01\n",
    "    decay_ratio = 2\n",
    "    max_step = 30\n",
    "    freq_list = [ threshold * (1/2) ** i for i in range(max_step)]\n",
    "    # print(freq_list)\n",
    "    linked_word_count_dict = {}\n",
    "    for idx in range(max_step - 1):\n",
    "        word_count = 0\n",
    "        linked_word_count = 0\n",
    "        threshold = freq_list[idx]\n",
    "        next_threshold = freq_list[idx + 1]\n",
    "        # threshold = 0.0001\n",
    "        print(threshold, end=' ')\n",
    "        for line, links in zip(test_lines_test, freq_lines_test):\n",
    "            src, trg = line.split('|||')\n",
    "            src_tokens = src.split()\n",
    "            # trg_tokens = trg.split()\n",
    "            links_list = [(int(link.split('-')[0]), int(link.split('-')[1])) for link in links.split()]\n",
    "            # print(links_list)\n",
    "            # print(src, trg)\n",
    "            words = set([token for token in src_tokens if token.isalpha()])\n",
    "            filtered_words  = set([word for word in words if src_dict[word] < threshold and src_dict[word] >= next_threshold])\n",
    "            \n",
    "            # print(words)\n",
    "            # print(filtered_words)\n",
    "            \n",
    "            linked_src_words = set([src_tokens[link[0]] for link in links_list if src_tokens[link[0]].isalpha()])\n",
    "            filtered_linked_src_words = set([word for word in linked_src_words if src_dict[word] < threshold and src_dict[word] >= next_threshold])\n",
    "            \n",
    "            word_count += len(filtered_words)\n",
    "            linked_word_count += len(filtered_linked_src_words)\n",
    "\n",
    "            # print(linked_src_words)\n",
    "            # print(filtered_linked_src_words)\n",
    "            # if \n",
    "            # break\n",
    "\n",
    "        print(linked_word_count, word_count, linked_word_count / word_count)\n",
    "        linked_word_count_dict[threshold] = linked_word_count / word_count\n",
    "\n",
    "    return word_count, linked_word_count_dict"
   ]
  },
  {
   "cell_type": "code",
   "execution_count": 3,
   "metadata": {
    "tags": []
   },
   "outputs": [
    {
     "output_type": "stream",
     "name": "stdout",
     "text": [
      "0.01 2478 3323 0.7457117062894975\n",
      "0.005 2425 2971 0.8162234937731404\n",
      "0.0025 1871 2231 0.8386373823397579\n",
      "0.00125 2656 3366 0.7890671420083185\n",
      "0.000625 2857 3515 0.8128022759601707\n",
      "0.0003125 3633 4860 0.7475308641975309\n",
      "0.00015625 3471 4380 0.7924657534246575\n",
      "7.8125e-05 3527 4488 0.785873440285205\n",
      "3.90625e-05 3117 3877 0.803972143409853\n",
      "1.953125e-05 2241 2766 0.8101952277657267\n",
      "9.765625e-06 1898 2326 0.8159931212381771\n",
      "4.8828125e-06 1454 1715 0.8478134110787172\n",
      "2.44140625e-06 1221 1507 0.8102189781021898\n",
      "1.220703125e-06 964 1121 0.8599464763603925\n",
      "6.103515625e-07 614 721 0.8515950069348127\n",
      "3.0517578125e-07 517 589 0.8777589134125636\n",
      "1.52587890625e-07 435 484 0.8987603305785123\n",
      "7.62939453125e-08 359 394 0.9111675126903553\n",
      "3.814697265625e-08 273 280 0.975\n",
      "1.9073486328125e-08 195 205 0.9512195121951219\n",
      "9.5367431640625e-09 "
     ]
    },
    {
     "output_type": "error",
     "ename": "ZeroDivisionError",
     "evalue": "division by zero",
     "traceback": [
      "\u001b[0;31m---------------------------------------------------------------------------\u001b[0m",
      "\u001b[0;31mZeroDivisionError\u001b[0m                         Traceback (most recent call last)",
      "\u001b[0;32m/tmp/ipykernel_71521/1857068366.py\u001b[0m in \u001b[0;36m<module>\u001b[0;34m\u001b[0m\n\u001b[1;32m      2\u001b[0m \u001b[0mdata_path\u001b[0m \u001b[0;34m=\u001b[0m \u001b[0;34mf'../../tmp_lfw/{lang_pair}/dag_{lang_pair}/'\u001b[0m\u001b[0;34m\u001b[0m\u001b[0;34m\u001b[0m\u001b[0m\n\u001b[1;32m      3\u001b[0m \u001b[0mskip_test\u001b[0m \u001b[0;34m=\u001b[0m \u001b[0;36m14\u001b[0m\u001b[0;34m\u001b[0m\u001b[0;34m\u001b[0m\u001b[0m\n\u001b[0;32m----> 4\u001b[0;31m \u001b[0mword_count\u001b[0m\u001b[0;34m,\u001b[0m \u001b[0mlinked_wor\u001b[0m\u001b[0;34m,\u001b[0m \u001b[0mskip_testd_count_dict\u001b[0m \u001b[0;34m=\u001b[0m \u001b[0mget_linked_count\u001b[0m\u001b[0;34m(\u001b[0m\u001b[0mdata_path\u001b[0m\u001b[0;34m)\u001b[0m\u001b[0;34m\u001b[0m\u001b[0;34m\u001b[0m\u001b[0m\n\u001b[0m\u001b[1;32m      5\u001b[0m \u001b[0mprint\u001b[0m\u001b[0;34m(\u001b[0m\u001b[0mword_count\u001b[0m\u001b[0;34m,\u001b[0m \u001b[0mlinked_word_count_dict\u001b[0m\u001b[0;34m)\u001b[0m\u001b[0;34m\u001b[0m\u001b[0;34m\u001b[0m\u001b[0m\n",
      "\u001b[0;32m/tmp/ipykernel_71521/1160099633.py\u001b[0m in \u001b[0;36mget_linked_count\u001b[0;34m(data_path, skipped)\u001b[0m\n\u001b[1;32m     55\u001b[0m             \u001b[0;31m# break\u001b[0m\u001b[0;34m\u001b[0m\u001b[0;34m\u001b[0m\u001b[0;34m\u001b[0m\u001b[0m\n\u001b[1;32m     56\u001b[0m \u001b[0;34m\u001b[0m\u001b[0m\n\u001b[0;32m---> 57\u001b[0;31m         \u001b[0mprint\u001b[0m\u001b[0;34m(\u001b[0m\u001b[0mlinked_word_count\u001b[0m\u001b[0;34m,\u001b[0m \u001b[0mword_count\u001b[0m\u001b[0;34m,\u001b[0m \u001b[0mlinked_word_count\u001b[0m \u001b[0;34m/\u001b[0m \u001b[0mword_count\u001b[0m\u001b[0;34m)\u001b[0m\u001b[0;34m\u001b[0m\u001b[0;34m\u001b[0m\u001b[0m\n\u001b[0m\u001b[1;32m     58\u001b[0m         \u001b[0mlinked_word_count_dict\u001b[0m\u001b[0;34m[\u001b[0m\u001b[0mthreshold\u001b[0m\u001b[0;34m]\u001b[0m \u001b[0;34m=\u001b[0m \u001b[0mlinked_word_count\u001b[0m \u001b[0;34m/\u001b[0m \u001b[0mword_count\u001b[0m\u001b[0;34m\u001b[0m\u001b[0;34m\u001b[0m\u001b[0m\n\u001b[1;32m     59\u001b[0m \u001b[0;34m\u001b[0m\u001b[0m\n",
      "\u001b[0;31mZeroDivisionError\u001b[0m: division by zero"
     ]
    }
   ],
   "source": [
    "lang_pair = 'en_de'\n",
    "data_path = f'../../tmp_lfw/{lang_pair}/dag_{lang_pair}/'\n",
    "skip_test = 14\n",
    "word_count, linked_wor, skip_testd_count_dict = get_linked_count(data_path)\n",
    "print(word_count, linked_word_count_dict)\n"
   ]
  },
  {
   "cell_type": "code",
   "execution_count": 4,
   "metadata": {
    "tags": []
   },
   "outputs": [
    {
     "output_type": "stream",
     "name": "stdout",
     "text": [
      "0.01 2479 3306 0.7498487598306111\n",
      "0.005 2442 2957 0.8258369969563747\n",
      "0.0025 1871 2215 0.8446952595936794\n",
      "0.00125 2671 3355 0.7961251862891208\n",
      "0.000625 2891 3491 0.8281294757949011\n",
      "0.0003125 3758 4828 0.7783761391880696\n",
      "0.00015625 3575 4357 0.8205187055313289\n",
      "7.8125e-05 3649 4464 0.8174283154121864\n",
      "3.90625e-05 3197 3850 0.8303896103896103\n",
      "1.953125e-05 2293 2744 0.8356413994169096\n",
      "9.765625e-06 1938 2310 0.8389610389610389\n",
      "4.8828125e-06 1564 1943 0.8049408131755018\n",
      "2.44140625e-06 1222 1479 0.8262339418526031\n",
      "1.220703125e-06 915 1072 0.8535447761194029\n",
      "6.103515625e-07 594 716 0.8296089385474861\n",
      "3.0517578125e-07 498 576 0.8645833333333334\n",
      "1.52587890625e-07 427 481 0.8877338877338877\n",
      "7.62939453125e-08 363 401 0.9052369077306733\n",
      "3.814697265625e-08 271 280 0.9678571428571429\n",
      "1.9073486328125e-08 185 204 0.9068627450980392\n",
      "9.5367431640625e-09 "
     ]
    },
    {
     "output_type": "error",
     "ename": "ZeroDivisionError",
     "evalue": "division by zero",
     "traceback": [
      "\u001b[0;31m---------------------------------------------------------------------------\u001b[0m",
      "\u001b[0;31mZeroDivisionError\u001b[0m                         Traceback (most recent call last)",
      "\u001b[0;32m/tmp/ipykernel_71521/384290800.py\u001b[0m in \u001b[0;36m<module>\u001b[0;34m\u001b[0m\n\u001b[1;32m      1\u001b[0m \u001b[0mdata_path\u001b[0m \u001b[0;34m=\u001b[0m \u001b[0;34mf'../../tmp_lfw/{lang_pair}/mglat_{lang_pair}/'\u001b[0m\u001b[0;34m\u001b[0m\u001b[0;34m\u001b[0m\u001b[0m\n\u001b[0;32m----> 2\u001b[0;31m \u001b[0mword_count\u001b[0m\u001b[0;34m,\u001b[0m \u001b[0mlinked_wor\u001b[0m\u001b[0;34m,\u001b[0m \u001b[0mskip_testd_count_dict\u001b[0m \u001b[0;34m=\u001b[0m \u001b[0mget_linked_count\u001b[0m\u001b[0;34m(\u001b[0m\u001b[0mdata_path\u001b[0m\u001b[0;34m)\u001b[0m\u001b[0;34m\u001b[0m\u001b[0;34m\u001b[0m\u001b[0m\n\u001b[0m\u001b[1;32m      3\u001b[0m \u001b[0mprint\u001b[0m\u001b[0;34m(\u001b[0m\u001b[0mword_count\u001b[0m\u001b[0;34m,\u001b[0m \u001b[0mlinked_word_count_dict\u001b[0m\u001b[0;34m)\u001b[0m\u001b[0;34m\u001b[0m\u001b[0;34m\u001b[0m\u001b[0m\n",
      "\u001b[0;32m/tmp/ipykernel_71521/1160099633.py\u001b[0m in \u001b[0;36mget_linked_count\u001b[0;34m(data_path, skipped)\u001b[0m\n\u001b[1;32m     55\u001b[0m             \u001b[0;31m# break\u001b[0m\u001b[0;34m\u001b[0m\u001b[0;34m\u001b[0m\u001b[0;34m\u001b[0m\u001b[0m\n\u001b[1;32m     56\u001b[0m \u001b[0;34m\u001b[0m\u001b[0m\n\u001b[0;32m---> 57\u001b[0;31m         \u001b[0mprint\u001b[0m\u001b[0;34m(\u001b[0m\u001b[0mlinked_word_count\u001b[0m\u001b[0;34m,\u001b[0m \u001b[0mword_count\u001b[0m\u001b[0;34m,\u001b[0m \u001b[0mlinked_word_count\u001b[0m \u001b[0;34m/\u001b[0m \u001b[0mword_count\u001b[0m\u001b[0;34m)\u001b[0m\u001b[0;34m\u001b[0m\u001b[0;34m\u001b[0m\u001b[0m\n\u001b[0m\u001b[1;32m     58\u001b[0m         \u001b[0mlinked_word_count_dict\u001b[0m\u001b[0;34m[\u001b[0m\u001b[0mthreshold\u001b[0m\u001b[0;34m]\u001b[0m \u001b[0;34m=\u001b[0m \u001b[0mlinked_word_count\u001b[0m \u001b[0;34m/\u001b[0m \u001b[0mword_count\u001b[0m\u001b[0;34m\u001b[0m\u001b[0;34m\u001b[0m\u001b[0m\n\u001b[1;32m     59\u001b[0m \u001b[0;34m\u001b[0m\u001b[0m\n",
      "\u001b[0;31mZeroDivisionError\u001b[0m: division by zero"
     ]
    }
   ],
   "source": [
    "data_path = f'../../tmp_lfw/{lang_pair}/mglat_{lang_pair}/'\n",
    "word_count, linked_wor, skip_testd_count_dict = get_linked_count(data_path)\n",
    "print(word_count, linked_word_count_dict)"
   ]
  },
  {
   "cell_type": "code",
   "execution_count": 6,
   "metadata": {},
   "outputs": [
    {
     "output_type": "stream",
     "name": "stdout",
     "text": [
      "0.01 2101 3201 0.6563573883161512\n",
      "0.005 1967 2864 0.6868016759776536\n",
      "0.0025 1435 2064 0.6952519379844961\n",
      "0.00125 2191 3055 0.7171849427168576\n",
      "0.000625 2209 2953 0.7480528276329157\n",
      "0.0003125 2596 3672 0.7069716775599129\n",
      "0.00015625 2535 3521 0.7199659187730758\n",
      "7.8125e-05 2598 3575 0.7267132867132867\n",
      "3.90625e-05 2243 3047 0.7361339021988842\n",
      "1.953125e-05 1606 2146 0.7483690587138863\n",
      "9.765625e-06 1290 1677 0.7692307692307693\n",
      "4.8828125e-06 1031 1327 0.7769404672192917\n",
      "2.44140625e-06 831 1053 0.7891737891737892\n",
      "1.220703125e-06 631 779 0.810012836970475\n",
      "6.103515625e-07 419 509 0.8231827111984283\n",
      "3.0517578125e-07 321 388 0.8273195876288659\n",
      "1.52587890625e-07 260 293 0.8873720136518771\n",
      "7.62939453125e-08 212 232 0.9137931034482759\n",
      "3.814697265625e-08 163 174 0.9367816091954023\n",
      "1.9073486328125e-08 130 136 0.9558823529411765\n",
      "9.5367431640625e-09 "
     ]
    },
    {
     "output_type": "error",
     "ename": "ZeroDivisionError",
     "evalue": "division by zero",
     "traceback": [
      "\u001b[0;31m---------------------------------------------------------------------------\u001b[0m",
      "\u001b[0;31mZeroDivisionError\u001b[0m                         Traceback (most recent call last)",
      "\u001b[0;32m/tmp/ipykernel_71521/4145280895.py\u001b[0m in \u001b[0;36m<module>\u001b[0;34m\u001b[0m\n\u001b[1;32m      1\u001b[0m \u001b[0mdata_path\u001b[0m \u001b[0;34m=\u001b[0m \u001b[0;34mf'../../tmp_lfw/{lang_pair}/raw_{lang_pair}/'\u001b[0m\u001b[0;34m\u001b[0m\u001b[0;34m\u001b[0m\u001b[0m\n\u001b[0;32m----> 2\u001b[0;31m \u001b[0mword_count\u001b[0m\u001b[0;34m,\u001b[0m \u001b[0mlinked_word_count_dict\u001b[0m \u001b[0;34m=\u001b[0m \u001b[0mget_linked_count\u001b[0m\u001b[0;34m(\u001b[0m\u001b[0mdata_path\u001b[0m\u001b[0;34m)\u001b[0m\u001b[0;34m\u001b[0m\u001b[0;34m\u001b[0m\u001b[0m\n\u001b[0m\u001b[1;32m      3\u001b[0m \u001b[0mprint\u001b[0m\u001b[0;34m(\u001b[0m\u001b[0mword_count\u001b[0m\u001b[0;34m,\u001b[0m \u001b[0mlinked_word_count_dict\u001b[0m\u001b[0;34m)\u001b[0m\u001b[0;34m\u001b[0m\u001b[0;34m\u001b[0m\u001b[0m\n",
      "\u001b[0;32m/tmp/ipykernel_71521/1160099633.py\u001b[0m in \u001b[0;36mget_linked_count\u001b[0;34m(data_path, skipped)\u001b[0m\n\u001b[1;32m     55\u001b[0m             \u001b[0;31m# break\u001b[0m\u001b[0;34m\u001b[0m\u001b[0;34m\u001b[0m\u001b[0;34m\u001b[0m\u001b[0m\n\u001b[1;32m     56\u001b[0m \u001b[0;34m\u001b[0m\u001b[0m\n\u001b[0;32m---> 57\u001b[0;31m         \u001b[0mprint\u001b[0m\u001b[0;34m(\u001b[0m\u001b[0mlinked_word_count\u001b[0m\u001b[0;34m,\u001b[0m \u001b[0mword_count\u001b[0m\u001b[0;34m,\u001b[0m \u001b[0mlinked_word_count\u001b[0m \u001b[0;34m/\u001b[0m \u001b[0mword_count\u001b[0m\u001b[0;34m)\u001b[0m\u001b[0;34m\u001b[0m\u001b[0;34m\u001b[0m\u001b[0m\n\u001b[0m\u001b[1;32m     58\u001b[0m         \u001b[0mlinked_word_count_dict\u001b[0m\u001b[0;34m[\u001b[0m\u001b[0mthreshold\u001b[0m\u001b[0;34m]\u001b[0m \u001b[0;34m=\u001b[0m \u001b[0mlinked_word_count\u001b[0m \u001b[0;34m/\u001b[0m \u001b[0mword_count\u001b[0m\u001b[0;34m\u001b[0m\u001b[0;34m\u001b[0m\u001b[0m\n\u001b[1;32m     59\u001b[0m \u001b[0;34m\u001b[0m\u001b[0m\n",
      "\u001b[0;31mZeroDivisionError\u001b[0m: division by zero"
     ]
    }
   ],
   "source": [
    "data_path = f'../../tmp_lfw/{lang_pair}/raw_{lang_pair}/'\n",
    "word_count, linked_word_count_dict = get_linked_count(data_path)\n",
    "print(word_count, linked_word_count_dict)"
   ]
  },
  {
   "cell_type": "code",
   "execution_count": null,
   "metadata": {},
   "outputs": [],
   "source": []
  }
 ]
}